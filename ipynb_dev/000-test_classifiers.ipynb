{
 "cells": [
  {
   "cell_type": "code",
   "execution_count": 2,
   "metadata": {
    "collapsed": false
   },
   "outputs": [
    {
     "data": {
      "text/plain": [
       "'%.3f'"
      ]
     },
     "execution_count": 2,
     "metadata": {},
     "output_type": "execute_result"
    }
   ],
   "source": [
    "import os\n",
    "from os.path import join\n",
    "import pandas as pd\n",
    "import numpy as np\n",
    "import sklearn as sk\n",
    "from matplotlib import pyplot as plt\n",
    "\n",
    "%matplotlib inline\n",
    "%precision 3"
   ]
  },
  {
   "cell_type": "code",
   "execution_count": 9,
   "metadata": {
    "collapsed": true
   },
   "outputs": [],
   "source": [
    "class G:\n",
    "    base_dir = os.path.abspath(join(\"..\"))\n",
    "    data_dir = os.path.abspath(join(\"..\", \"data\"))"
   ]
  },
  {
   "cell_type": "code",
   "execution_count": 14,
   "metadata": {
    "collapsed": false
   },
   "outputs": [],
   "source": [
    "import numpy as np\n",
    "import pandas as pd\n",
    "from sklearn.cross_validation import StratifiedKFold\n",
    "from sklearn.metrics import roc_curve, auc\n",
    "import matplotlib.pyplot as plt \n",
    "# from sklearn.metrics import f1_score, precision_score, recall_score\n",
    "\n",
    "def classifier_evaluator( model, x, y ):\n",
    "    \"\"\" generate evaluation report on binary classifier\n",
    "    \"\"\"\n",
    "    y_true = y\n",
    "    # calculate auc\n",
    "    probas_ = model.predict_proba( x )[:, 1]\n",
    "    fpr, tpr, thresholds = roc_curve( y_true, probas_ )\n",
    "    roc_auc = auc( fpr, tpr )\n",
    "    # calcualte F1-score, recall, precision\n",
    "    y_pred = model.predict( x )\n",
    "    # the number of true positive\n",
    "    num_tp = sum([ 1 for pred, obs in zip(y_pred, y) if pred == obs and obs == 1 ])\n",
    "    sensitivity = num_tp / sum(y_true == 1)\n",
    "    return roc_auc, sensitivity\n",
    "    \n",
    "def model_selection_cv( models, x, y, k=5, random_state=123, eval_func=None ):\n",
    "    \"\"\" framework for model selection based on stratified \n",
    "        cross-validation\n",
    "    \n",
    "        Parameters:\n",
    "        ----------\n",
    "        * models: {dictionary}, key: model label, value: learner object\n",
    "        * x: {np.array}, predictor data \n",
    "        * y: {np.array}, response variable data\n",
    "        * k: {integer}, the number of folds in cross-validation\n",
    "        * random_state: {integer}, the random state set for replication\n",
    "        * eval_func: {function}, return evaulation score\n",
    "    \"\"\"\n",
    "    # stratified cross_validation\n",
    "    cv = StratifiedKFold( y, n_folds=k, shuffle=False, random_state=random_state)\n",
    "    tot_models = len( models.keys() )\n",
    "    tot_iterations = tot_models * k \n",
    "    \n",
    "    # results container\n",
    "    eval_report = []\n",
    "    for jj, model_name in enumerate(models):\n",
    "        model = models[model_name]\n",
    "        # cross-validation evaluation containers\n",
    "        train_scores = []\n",
    "        test_scores = []\n",
    "        print( \"--- model: {}'s cross-validation test ----\".format( model_name ) )\n",
    "        for ii, (train_idx, test_idx) in enumerate(cv):\n",
    "            # retrieve data for relevant usage\n",
    "            x_train, y_train = x[train_idx], y[train_idx]\n",
    "            x_test, y_test = x[test_idx], y[test_idx]\n",
    "            # training model \n",
    "            model.fit( x_train, y_train )\n",
    "            # evaluation model \n",
    "            train_scores.append( eval_func( model, x_train, y_train ) )\n",
    "            test_scores.append( eval_func( model, x_test, y_test ) )\n",
    "       \n",
    "        train_scores = np.array( train_scores )\n",
    "        test_scores = np.array( test_scores )\n",
    "        # summarize performance \n",
    "        # train scores\n",
    "        train_auc_mean, train_sensitivity_mean = train_scores.mean(axis=0)\n",
    "        train_auc_std, train_sensitivity_std = train_scores.std(axis=0)\n",
    "        # test scores\n",
    "        test_auc_mean, test_sensitivity_mean = test_scores.mean(axis=0)\n",
    "        test_auc_std, test_sensitivity_std = test_scores.std(axis=0)\n",
    "        \n",
    "        eval_info = [model_name, \\\n",
    "                     train_auc_mean, train_auc_std, \\\n",
    "                     train_sensitivity_mean, train_sensitivity_std, \\\n",
    "                     test_auc_mean, test_auc_std, \\\n",
    "                     test_sensitivity_mean, test_sensitivity_std]\n",
    "    \n",
    "        eval_report.append( eval_info )\n",
    "     \n",
    "    col_names = ['model_name', \\\n",
    "                 'train_auc_mean', 'train_auc_std', \\\n",
    "                 'train_sensitivity_mean', 'train_sensitivity_std', \\\n",
    "                 'test_auc_mean', 'test_auc_std', \\\n",
    "                 'test_sensitivity_mean', 'test_sensitivity_std'\\\n",
    "                 ] \n",
    "    eval_report = pd.DataFrame( eval_report, columns = col_names )\n",
    "    return eval_report \n",
    "    \n",
    "    \n",
    "def eval_barchart( df, \n",
    "                  test_metrics_colnames, \n",
    "                  train_metrics_colnames,\n",
    "                  label_colname = None, \n",
    "                  ylabel = 'Performance Score' ):\n",
    "    \"\"\" plot model evaluation performance \n",
    "    \n",
    "        Parameters:\n",
    "        ----------\n",
    "        * df: {pandas.DataFrame}\n",
    "        * label_colname: {string}, the column name for colum keeping model name \n",
    "        * test_metrics_colnames: {list}, columns for test metric mean, columns for test metric std.\n",
    "        * train_metrics_colnames: {list}, columns for train metric mean, columns for train metric std.\n",
    "        * ylabel: {string} y-axis label \n",
    "    \"\"\"    \n",
    "    if ( label_colname==None ):\n",
    "        label_colname = df.columns[0]\n",
    "    \n",
    "    labels = df[ label_colname ].tolist()\n",
    "    \n",
    "    test_mean = df[ test_metrics_colnames[0] ].tolist()\n",
    "    test_std  = df[ test_metrics_colnames[1] ].tolist()\n",
    "    \n",
    "    train_mean = df[ train_metrics_colnames[0] ].tolist()\n",
    "    train_std  = df[ train_metrics_colnames[1] ].tolist()\n",
    "    \n",
    "    # graphic parameter\n",
    "    N = len(labels)\n",
    "    ind = np.arange(N)\n",
    "    width = 0.35 # the width of the bars\n",
    "    \n",
    "    fig, ax = plt.subplots()\n",
    "    # plot 1st test error\n",
    "    rects1 = ax.bar(ind, test_mean, width, color='g', yerr = test_std)\n",
    "    # plot 2nd train error\n",
    "    rects2 = ax.bar(ind + width, train_mean, width, color='b', yerr = train_std)\n",
    "\n",
    "    # add some text for labels, title and axes ticks\n",
    "    ax.set_ylim( 0, 1 )\n",
    "    ax.set_ylabel( ylabel )\n",
    "    ax.set_title( 'Evaluation Results Bar-Chart' )\n",
    "    ax.set_xticks( ind + width )\n",
    "    ax.set_xticklabels( labels, rotation=20 )\n",
    "    ax.legend( ( rects1[0], rects2[0] ), ('Test', 'Train') )\n",
    "\n",
    "    def autolabel(rects):\n",
    "        # attach some text labels\n",
    "        for rect in rects:\n",
    "            height = rect.get_height()\n",
    "            ax.text(rect.get_x() + rect.get_width() / 2., \n",
    "                    1.05*height,\n",
    "                    '%d' % int(height),\n",
    "                     ha='center', va='bottom')\n",
    "    \n",
    "    autolabel( rects1 )\n",
    "    autolabel( rects2 )\n",
    "    \n",
    "    return fig "
   ]
  },
  {
   "cell_type": "markdown",
   "metadata": {},
   "source": [
    "### load data"
   ]
  },
  {
   "cell_type": "code",
   "execution_count": 23,
   "metadata": {
    "collapsed": false
   },
   "outputs": [],
   "source": [
    "train_df = pd.read_csv(join(G.data_dir, \"train_data.csv\"), header=0, sep=\",\")"
   ]
  },
  {
   "cell_type": "code",
   "execution_count": 22,
   "metadata": {
    "collapsed": false
   },
   "outputs": [
    {
     "name": "stdout",
     "output_type": "stream",
     "text": [
      "positive percentage: 0.134\n"
     ]
    }
   ],
   "source": [
    "features = {\"predictors\": ['x_0', 'x_1', 'x_2', 'x_3', 'x_4', 'x_5', 'x_6', 'x_7'],\n",
    "            \"target\": \"is_developer\"}\n",
    "\n",
    "xx_data = train_df[features[\"predictors\"]].as_matrix()\n",
    "yy_data = train_df[features[\"target\"]].as_matrix()\n",
    "print(\"positive percentage: {}\".format(sum(yy_data) / len(yy_data)))"
   ]
  },
  {
   "cell_type": "code",
   "execution_count": 25,
   "metadata": {
    "collapsed": false
   },
   "outputs": [],
   "source": [
    "from sklearn.linear_model import LogisticRegression\n",
    "from sklearn.svm import SVC\n",
    "from sklearn.ensemble import AdaBoostClassifier\n",
    "from sklearn.ensemble import RandomForestClassifier\n",
    "\n",
    "LogisticModel = LogisticRegression(penalty='l1', C=0.1, max_iter=1000)\n",
    "Boosting = AdaBoostClassifier()\n",
    "RF = RandomForestClassifier()\n",
    "SVM = SVC( probability=True)\n",
    "\n",
    "classifiers = {\"Logistic Regression (L1: Lasso)\": LogisticModel, \n",
    "               \"SVM (Kernel=RDF)\": SVM,\n",
    "               \"Boosting Tree\": Boosting, \n",
    "               \"Random Forest\": RF}"
   ]
  },
  {
   "cell_type": "code",
   "execution_count": 26,
   "metadata": {
    "collapsed": false
   },
   "outputs": [
    {
     "name": "stdout",
     "output_type": "stream",
     "text": [
      "--- model: SVM (Kernel=RDF)'s cross-validation test ----\n",
      "--- model: Boosting Tree's cross-validation test ----\n",
      "--- model: Logistic Regression (L1: Lasso)'s cross-validation test ----\n",
      "--- model: Random Forest's cross-validation test ----\n"
     ]
    }
   ],
   "source": [
    "_RANDOM_STATE = 123\n",
    "model_slc_report = model_selection_cv(classifiers, xx_data, yy_data,\n",
    "                                      k=10, random_state=_RANDOM_STATE, \n",
    "                                      eval_func = classifier_evaluator )"
   ]
  },
  {
   "cell_type": "code",
   "execution_count": 27,
   "metadata": {
    "collapsed": false
   },
   "outputs": [
    {
     "data": {
      "text/html": [
       "<div>\n",
       "<table border=\"1\" class=\"dataframe\">\n",
       "  <thead>\n",
       "    <tr style=\"text-align: right;\">\n",
       "      <th></th>\n",
       "      <th>model_name</th>\n",
       "      <th>train_auc_mean</th>\n",
       "      <th>train_auc_std</th>\n",
       "      <th>train_sensitivity_mean</th>\n",
       "      <th>train_sensitivity_std</th>\n",
       "      <th>test_auc_mean</th>\n",
       "      <th>test_auc_std</th>\n",
       "      <th>test_sensitivity_mean</th>\n",
       "      <th>test_sensitivity_std</th>\n",
       "    </tr>\n",
       "  </thead>\n",
       "  <tbody>\n",
       "    <tr>\n",
       "      <th>0</th>\n",
       "      <td>SVM (Kernel=RDF)</td>\n",
       "      <td>0.937348</td>\n",
       "      <td>0.002059</td>\n",
       "      <td>0.014077</td>\n",
       "      <td>0.008300</td>\n",
       "      <td>0.926648</td>\n",
       "      <td>0.020622</td>\n",
       "      <td>0.007692</td>\n",
       "      <td>0.023077</td>\n",
       "    </tr>\n",
       "    <tr>\n",
       "      <th>1</th>\n",
       "      <td>Boosting Tree</td>\n",
       "      <td>1.000000</td>\n",
       "      <td>0.000000</td>\n",
       "      <td>1.000000</td>\n",
       "      <td>0.000000</td>\n",
       "      <td>0.998116</td>\n",
       "      <td>0.004370</td>\n",
       "      <td>0.978022</td>\n",
       "      <td>0.033602</td>\n",
       "    </tr>\n",
       "    <tr>\n",
       "      <th>2</th>\n",
       "      <td>Logistic Regression (L1: Lasso)</td>\n",
       "      <td>0.793961</td>\n",
       "      <td>0.013583</td>\n",
       "      <td>0.000000</td>\n",
       "      <td>0.000000</td>\n",
       "      <td>0.753598</td>\n",
       "      <td>0.067493</td>\n",
       "      <td>0.000000</td>\n",
       "      <td>0.000000</td>\n",
       "    </tr>\n",
       "    <tr>\n",
       "      <th>3</th>\n",
       "      <td>Random Forest</td>\n",
       "      <td>0.999924</td>\n",
       "      <td>0.000098</td>\n",
       "      <td>0.957686</td>\n",
       "      <td>0.014668</td>\n",
       "      <td>0.945675</td>\n",
       "      <td>0.027697</td>\n",
       "      <td>0.296703</td>\n",
       "      <td>0.093018</td>\n",
       "    </tr>\n",
       "  </tbody>\n",
       "</table>\n",
       "</div>"
      ],
      "text/plain": [
       "                        model_name  train_auc_mean  train_auc_std  \\\n",
       "0                 SVM (Kernel=RDF)        0.937348       0.002059   \n",
       "1                    Boosting Tree        1.000000       0.000000   \n",
       "2  Logistic Regression (L1: Lasso)        0.793961       0.013583   \n",
       "3                    Random Forest        0.999924       0.000098   \n",
       "\n",
       "   train_sensitivity_mean  train_sensitivity_std  test_auc_mean  test_auc_std  \\\n",
       "0                0.014077               0.008300       0.926648      0.020622   \n",
       "1                1.000000               0.000000       0.998116      0.004370   \n",
       "2                0.000000               0.000000       0.753598      0.067493   \n",
       "3                0.957686               0.014668       0.945675      0.027697   \n",
       "\n",
       "   test_sensitivity_mean  test_sensitivity_std  \n",
       "0               0.007692              0.023077  \n",
       "1               0.978022              0.033602  \n",
       "2               0.000000              0.000000  \n",
       "3               0.296703              0.093018  "
      ]
     },
     "execution_count": 27,
     "metadata": {},
     "output_type": "execute_result"
    }
   ],
   "source": [
    "model_slc_report"
   ]
  },
  {
   "cell_type": "code",
   "execution_count": 28,
   "metadata": {
    "collapsed": false
   },
   "outputs": [
    {
     "data": {
      "image/png": "[encoded data removed]",
      "text/plain": [
       "<matplotlib.figure.Figure at 0xb2ebd68>"
      ]
     },
     "metadata": {},
     "output_type": "display_data"
    }
   ],
   "source": [
    "auc_barchart = eval_barchart( model_slc_report, \n",
    "                              test_metrics_colnames = ['test_auc_mean', 'test_auc_std'], \n",
    "                              train_metrics_colnames = ['train_auc_mean', 'train_auc_std'], \n",
    "                              label_colname = 'model_name' )"
   ]
  },
  {
   "cell_type": "code",
   "execution_count": 29,
   "metadata": {
    "collapsed": false
   },
   "outputs": [
    {
     "data": {
      "image/png": "[encoded data removed]",
      "text/plain": [
       "<matplotlib.figure.Figure at 0xb714978>"
      ]
     },
     "metadata": {},
     "output_type": "display_data"
    }
   ],
   "source": [
    "sensitivity_barchart = eval_barchart(model_slc_report, \n",
    "                              test_metrics_colnames = ['test_sensitivity_mean', 'test_sensitivity_std'], \n",
    "                              train_metrics_colnames = ['train_sensitivity_mean', 'train_sensitivity_std'], \n",
    "                              label_colname = 'model_name' )"
   ]
  },
  {
   "cell_type": "code",
   "execution_count": null,
   "metadata": {
    "collapsed": true
   },
   "outputs": [],
   "source": []
  }
 ],
 "metadata": {
  "kernelspec": {
   "display_name": "Python 3",
   "language": "python",
   "name": "python3"
  },
  "language_info": {
   "codemirror_mode": {
    "name": "ipython",
    "version": 3
   },
   "file_extension": ".py",
   "mimetype": "text/x-python",
   "name": "python",
   "nbconvert_exporter": "python",
   "pygments_lexer": "ipython3",
   "version": "3.5.1"
  }
 },
 "nbformat": 4,
 "nbformat_minor": 0
}
