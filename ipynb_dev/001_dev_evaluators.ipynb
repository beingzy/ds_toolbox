{
 "cells": [
  {
   "cell_type": "code",
   "execution_count": 1,
   "metadata": {
    "collapsed": false
   },
   "outputs": [
    {
     "data": {
      "text/plain": [
       "'%.3f'"
      ]
     },
     "execution_count": 1,
     "metadata": {},
     "output_type": "execute_result"
    }
   ],
   "source": [
    "import os\n",
    "from os.path import join\n",
    "import pandas as pd\n",
    "import numpy as np\n",
    "import sklearn as sk\n",
    "from matplotlib import pyplot as plt\n",
    "\n",
    "%matplotlib inline\n",
    "%precision 3"
   ]
  },
  {
   "cell_type": "code",
   "execution_count": 2,
   "metadata": {
    "collapsed": true
   },
   "outputs": [],
   "source": [
    "class G:\n",
    "    base_dir = os.path.abspath(join(\"..\"))\n",
    "    data_dir = os.path.abspath(join(\"..\", \"data\"))"
   ]
  },
  {
   "cell_type": "code",
   "execution_count": 3,
   "metadata": {
    "collapsed": false
   },
   "outputs": [
    {
     "name": "stdout",
     "output_type": "stream",
     "text": [
      "positive percentage: 0.134\n"
     ]
    }
   ],
   "source": [
    "train_df = pd.read_csv(join(G.data_dir, \"train_data.csv\"), header=0, sep=\",\")\n",
    "\n",
    "features = {\"predictors\": ['x_0', 'x_1', 'x_2', 'x_3', 'x_4', 'x_5', 'x_6', 'x_7'],\n",
    "            \"target\": \"is_developer\"}\n",
    "\n",
    "xx_data = train_df[features[\"predictors\"]].as_matrix()\n",
    "yy_data = train_df[features[\"target\"]].as_matrix()\n",
    "print(\"positive percentage: {}\".format(sum(yy_data) / len(yy_data)))"
   ]
  },
  {
   "cell_type": "code",
   "execution_count": 10,
   "metadata": {
    "collapsed": false
   },
   "outputs": [],
   "source": [
    "from numpy.random import choice\n",
    "\n",
    "n_obs = xx_data.shape[0]\n",
    "sample_idx = choice([True, False], size=n_obs, replace=True, p=[0.8, 0.2])\n",
    "\n",
    "xx_train, xx_test = xx_data[sample_idx], xx_data[~sample_idx]\n",
    "yy_train, yy_test = yy_data[sample_idx], yy_data[~sample_idx]"
   ]
  },
  {
   "cell_type": "code",
   "execution_count": 13,
   "metadata": {
    "collapsed": false
   },
   "outputs": [
    {
     "data": {
      "text/plain": [
       "AdaBoostClassifier(algorithm='SAMME.R', base_estimator=None,\n",
       "          learning_rate=1.0, n_estimators=50, random_state=None)"
      ]
     },
     "execution_count": 13,
     "metadata": {},
     "output_type": "execute_result"
    }
   ],
   "source": [
    "from sklearn.ensemble import AdaBoostClassifier\n",
    "\n",
    "boost = AdaBoostClassifier()\n",
    "boost.fit(xx_train, yy_train)"
   ]
  },
  {
   "cell_type": "code",
   "execution_count": 68,
   "metadata": {
    "collapsed": false
   },
   "outputs": [],
   "source": [
    "from sklearn.linear_model import LogisticRegression\n",
    "from sklearn.svm import SVC\n",
    "from sklearn.ensemble import AdaBoostClassifier\n",
    "from sklearn.ensemble import RandomForestClassifier\n",
    "from sklearn.cross_validation import StratifiedKFold\n",
    "\n",
    "LogisticModel = LogisticRegression(penalty='l1', C=0.1, max_iter=1000)\n",
    "Boosting = AdaBoostClassifier()\n",
    "RF = RandomForestClassifier()\n",
    "SVM = SVC( probability=True)\n",
    "\n",
    "classifiers = {\"Logistic Regression (L1: Lasso)\": LogisticModel, \n",
    "               \"SVM (Kernel=RDF)\": SVM,\n",
    "               \"Boosting Tree\": Boosting, \n",
    "               \"Random Forest\": RF}"
   ]
  },
  {
   "cell_type": "code",
   "execution_count": 69,
   "metadata": {
    "collapsed": true
   },
   "outputs": [],
   "source": [
    "models = classifiers\n",
    "x = xx_data \n",
    "y = yy_data \n",
    "k=5 \n",
    "random_state = None\n",
    "eval_func = classifier_evaluator"
   ]
  },
  {
   "cell_type": "code",
   "execution_count": 70,
   "metadata": {
    "collapsed": false
   },
   "outputs": [],
   "source": [
    "cv = StratifiedKFold( y, n_folds=k, shuffle=False, random_state=random_state)\n",
    "tot_models = len( models.keys() )"
   ]
  },
  {
   "cell_type": "code",
   "execution_count": 71,
   "metadata": {
    "collapsed": false
   },
   "outputs": [
    {
     "data": {
      "text/plain": [
       "{'Boosting Tree': AdaBoostClassifier(algorithm='SAMME.R', base_estimator=None,\n",
       "           learning_rate=1.0, n_estimators=50, random_state=None),\n",
       " 'Logistic Regression (L1: Lasso)': LogisticRegression(C=0.1, class_weight=None, dual=False, fit_intercept=True,\n",
       "           intercept_scaling=1, max_iter=1000, multi_class='ovr', n_jobs=1,\n",
       "           penalty='l1', random_state=None, solver='liblinear', tol=0.0001,\n",
       "           verbose=0, warm_start=False),\n",
       " 'Random Forest': RandomForestClassifier(bootstrap=True, class_weight=None, criterion='gini',\n",
       "             max_depth=None, max_features='auto', max_leaf_nodes=None,\n",
       "             min_samples_leaf=1, min_samples_split=2,\n",
       "             min_weight_fraction_leaf=0.0, n_estimators=10, n_jobs=1,\n",
       "             oob_score=False, random_state=None, verbose=0,\n",
       "             warm_start=False),\n",
       " 'SVM (Kernel=RDF)': SVC(C=1.0, cache_size=200, class_weight=None, coef0=0.0,\n",
       "   decision_function_shape=None, degree=3, gamma='auto', kernel='rbf',\n",
       "   max_iter=-1, probability=True, random_state=None, shrinking=True,\n",
       "   tol=0.001, verbose=False)}"
      ]
     },
     "execution_count": 71,
     "metadata": {},
     "output_type": "execute_result"
    }
   ],
   "source": [
    "models"
   ]
  },
  {
   "cell_type": "code",
   "execution_count": 114,
   "metadata": {
    "collapsed": false
   },
   "outputs": [
    {
     "name": "stderr",
     "output_type": "stream",
     "text": []
    }
   ],
   "source": [
    "from tqdm import tqdm\n",
    "from pandas import DataFrame\n",
    "\n",
    "tot_models = len( models.keys() )\n",
    "tot_iter = tot_models * k \n",
    "    \n",
    "pbar = tqdm(total=tot_iter)\n",
    "\n",
    "train_reports, test_reports = [], []\n",
    "for jj, model_name in enumerate(models):\n",
    "    model = models[model_name]\n",
    "    # cross-validation evaluation containers\n",
    "    train_scores = []\n",
    "    test_scores = []\n",
    "    # print( \"--- model: {}'s cross-validation test ----\".format( model_name ) )\n",
    "    for ii, (train_idx, test_idx) in enumerate(cv):\n",
    "        # retrieve data for relevant usage\n",
    "        x_train, y_train = x[train_idx], y[train_idx]\n",
    "        x_test, y_test = x[test_idx], y[test_idx]\n",
    "        # training model \n",
    "        model.fit( x_train, y_train )\n",
    "        # evaluation model\n",
    "        train_score = eval_func( model, x_train, y_train )\n",
    "        train_score[\"model_name\"] = model_name\n",
    "        test_score = eval_func( model, x_test, y_test )\n",
    "        test_score[\"model_name\"] = model_name\n",
    "        \n",
    "        train_reports.append( train_score )\n",
    "        test_reports.append( test_score )\n",
    "        \n",
    "        pbar.update()\n",
    "        \n",
    "pbar.close()\n",
    "\n",
    "# convert list of performance records into dataframe\n",
    "train_reports = DataFrame(train_reports)\n",
    "test_reports = DataFrame(train_reports)\n",
    "\n",
    "metrics_names = [feat for feat in train_reports.columns.tolist() if feat != \"model_name\"]\n",
    "\n",
    "train_reports.sort_values(by=[\"model_name\"])\n",
    "train_reports = train_reports[[\"model_name\"] + metrics_names]\n",
    "test_reports.sort_values(by=[\"model_name\"])\n",
    "test_reports = test_reports[[\"model_name\"] + metrics_names]"
   ]
  },
  {
   "cell_type": "code",
   "execution_count": 107,
   "metadata": {
    "collapsed": false
   },
   "outputs": [
    {
     "data": {
      "text/html": [
       "<div>\n",
       "<table border=\"1\" class=\"dataframe\">\n",
       "  <thead>\n",
       "    <tr style=\"text-align: right;\">\n",
       "      <th></th>\n",
       "      <th>model_name</th>\n",
       "      <th>accuracy</th>\n",
       "      <th>f1_score</th>\n",
       "      <th>precision</th>\n",
       "      <th>roc_auc</th>\n",
       "      <th>sensitivity</th>\n",
       "      <th>specificity</th>\n",
       "    </tr>\n",
       "  </thead>\n",
       "  <tbody>\n",
       "    <tr>\n",
       "      <th>0</th>\n",
       "      <td>Random Forest</td>\n",
       "      <td>0.993742</td>\n",
       "      <td>0.976077</td>\n",
       "      <td>1</td>\n",
       "      <td>0.999980</td>\n",
       "      <td>0.953271</td>\n",
       "      <td>1</td>\n",
       "    </tr>\n",
       "    <tr>\n",
       "      <th>1</th>\n",
       "      <td>Random Forest</td>\n",
       "      <td>0.998750</td>\n",
       "      <td>0.995305</td>\n",
       "      <td>1</td>\n",
       "      <td>0.999993</td>\n",
       "      <td>0.990654</td>\n",
       "      <td>1</td>\n",
       "    </tr>\n",
       "    <tr>\n",
       "      <th>2</th>\n",
       "      <td>Random Forest</td>\n",
       "      <td>0.992500</td>\n",
       "      <td>0.971154</td>\n",
       "      <td>1</td>\n",
       "      <td>0.999912</td>\n",
       "      <td>0.943925</td>\n",
       "      <td>1</td>\n",
       "    </tr>\n",
       "    <tr>\n",
       "      <th>3</th>\n",
       "      <td>Random Forest</td>\n",
       "      <td>0.993750</td>\n",
       "      <td>0.976077</td>\n",
       "      <td>1</td>\n",
       "      <td>0.999724</td>\n",
       "      <td>0.953271</td>\n",
       "      <td>1</td>\n",
       "    </tr>\n",
       "    <tr>\n",
       "      <th>4</th>\n",
       "      <td>Random Forest</td>\n",
       "      <td>0.992509</td>\n",
       "      <td>0.971429</td>\n",
       "      <td>1</td>\n",
       "      <td>1.000000</td>\n",
       "      <td>0.944444</td>\n",
       "      <td>1</td>\n",
       "    </tr>\n",
       "    <tr>\n",
       "      <th>5</th>\n",
       "      <td>SVM (Kernel=RDF)</td>\n",
       "      <td>0.866083</td>\n",
       "      <td>0.000000</td>\n",
       "      <td>1</td>\n",
       "      <td>0.935714</td>\n",
       "      <td>0.000000</td>\n",
       "      <td>1</td>\n",
       "    </tr>\n",
       "    <tr>\n",
       "      <th>6</th>\n",
       "      <td>SVM (Kernel=RDF)</td>\n",
       "      <td>0.866250</td>\n",
       "      <td>0.000000</td>\n",
       "      <td>1</td>\n",
       "      <td>0.937155</td>\n",
       "      <td>0.000000</td>\n",
       "      <td>1</td>\n",
       "    </tr>\n",
       "    <tr>\n",
       "      <th>7</th>\n",
       "      <td>SVM (Kernel=RDF)</td>\n",
       "      <td>0.870000</td>\n",
       "      <td>0.054545</td>\n",
       "      <td>1</td>\n",
       "      <td>0.942941</td>\n",
       "      <td>0.028037</td>\n",
       "      <td>1</td>\n",
       "    </tr>\n",
       "    <tr>\n",
       "      <th>8</th>\n",
       "      <td>SVM (Kernel=RDF)</td>\n",
       "      <td>0.867500</td>\n",
       "      <td>0.018519</td>\n",
       "      <td>1</td>\n",
       "      <td>0.938032</td>\n",
       "      <td>0.009346</td>\n",
       "      <td>1</td>\n",
       "    </tr>\n",
       "    <tr>\n",
       "      <th>9</th>\n",
       "      <td>SVM (Kernel=RDF)</td>\n",
       "      <td>0.867665</td>\n",
       "      <td>0.036364</td>\n",
       "      <td>1</td>\n",
       "      <td>0.934838</td>\n",
       "      <td>0.018519</td>\n",
       "      <td>1</td>\n",
       "    </tr>\n",
       "    <tr>\n",
       "      <th>10</th>\n",
       "      <td>Boosting Tree</td>\n",
       "      <td>1.000000</td>\n",
       "      <td>1.000000</td>\n",
       "      <td>1</td>\n",
       "      <td>1.000000</td>\n",
       "      <td>1.000000</td>\n",
       "      <td>1</td>\n",
       "    </tr>\n",
       "    <tr>\n",
       "      <th>11</th>\n",
       "      <td>Boosting Tree</td>\n",
       "      <td>1.000000</td>\n",
       "      <td>1.000000</td>\n",
       "      <td>1</td>\n",
       "      <td>1.000000</td>\n",
       "      <td>1.000000</td>\n",
       "      <td>1</td>\n",
       "    </tr>\n",
       "    <tr>\n",
       "      <th>12</th>\n",
       "      <td>Boosting Tree</td>\n",
       "      <td>1.000000</td>\n",
       "      <td>1.000000</td>\n",
       "      <td>1</td>\n",
       "      <td>1.000000</td>\n",
       "      <td>1.000000</td>\n",
       "      <td>1</td>\n",
       "    </tr>\n",
       "    <tr>\n",
       "      <th>13</th>\n",
       "      <td>Boosting Tree</td>\n",
       "      <td>1.000000</td>\n",
       "      <td>1.000000</td>\n",
       "      <td>1</td>\n",
       "      <td>1.000000</td>\n",
       "      <td>1.000000</td>\n",
       "      <td>1</td>\n",
       "    </tr>\n",
       "    <tr>\n",
       "      <th>14</th>\n",
       "      <td>Boosting Tree</td>\n",
       "      <td>1.000000</td>\n",
       "      <td>1.000000</td>\n",
       "      <td>1</td>\n",
       "      <td>1.000000</td>\n",
       "      <td>1.000000</td>\n",
       "      <td>1</td>\n",
       "    </tr>\n",
       "    <tr>\n",
       "      <th>15</th>\n",
       "      <td>Logistic Regression (L1: Lasso)</td>\n",
       "      <td>0.866083</td>\n",
       "      <td>0.000000</td>\n",
       "      <td>1</td>\n",
       "      <td>0.720214</td>\n",
       "      <td>0.000000</td>\n",
       "      <td>1</td>\n",
       "    </tr>\n",
       "    <tr>\n",
       "      <th>16</th>\n",
       "      <td>Logistic Regression (L1: Lasso)</td>\n",
       "      <td>0.866250</td>\n",
       "      <td>0.000000</td>\n",
       "      <td>1</td>\n",
       "      <td>0.734373</td>\n",
       "      <td>0.000000</td>\n",
       "      <td>1</td>\n",
       "    </tr>\n",
       "    <tr>\n",
       "      <th>17</th>\n",
       "      <td>Logistic Regression (L1: Lasso)</td>\n",
       "      <td>0.866250</td>\n",
       "      <td>0.000000</td>\n",
       "      <td>1</td>\n",
       "      <td>0.810373</td>\n",
       "      <td>0.000000</td>\n",
       "      <td>1</td>\n",
       "    </tr>\n",
       "    <tr>\n",
       "      <th>18</th>\n",
       "      <td>Logistic Regression (L1: Lasso)</td>\n",
       "      <td>0.866250</td>\n",
       "      <td>0.000000</td>\n",
       "      <td>1</td>\n",
       "      <td>0.750341</td>\n",
       "      <td>0.000000</td>\n",
       "      <td>1</td>\n",
       "    </tr>\n",
       "    <tr>\n",
       "      <th>19</th>\n",
       "      <td>Logistic Regression (L1: Lasso)</td>\n",
       "      <td>0.865169</td>\n",
       "      <td>0.000000</td>\n",
       "      <td>1</td>\n",
       "      <td>0.781693</td>\n",
       "      <td>0.000000</td>\n",
       "      <td>1</td>\n",
       "    </tr>\n",
       "  </tbody>\n",
       "</table>\n",
       "</div>"
      ],
      "text/plain": [
       "                         model_name  accuracy  f1_score  precision   roc_auc  \\\n",
       "0                     Random Forest  0.993742  0.976077          1  0.999980   \n",
       "1                     Random Forest  0.998750  0.995305          1  0.999993   \n",
       "2                     Random Forest  0.992500  0.971154          1  0.999912   \n",
       "3                     Random Forest  0.993750  0.976077          1  0.999724   \n",
       "4                     Random Forest  0.992509  0.971429          1  1.000000   \n",
       "5                  SVM (Kernel=RDF)  0.866083  0.000000          1  0.935714   \n",
       "6                  SVM (Kernel=RDF)  0.866250  0.000000          1  0.937155   \n",
       "7                  SVM (Kernel=RDF)  0.870000  0.054545          1  0.942941   \n",
       "8                  SVM (Kernel=RDF)  0.867500  0.018519          1  0.938032   \n",
       "9                  SVM (Kernel=RDF)  0.867665  0.036364          1  0.934838   \n",
       "10                    Boosting Tree  1.000000  1.000000          1  1.000000   \n",
       "11                    Boosting Tree  1.000000  1.000000          1  1.000000   \n",
       "12                    Boosting Tree  1.000000  1.000000          1  1.000000   \n",
       "13                    Boosting Tree  1.000000  1.000000          1  1.000000   \n",
       "14                    Boosting Tree  1.000000  1.000000          1  1.000000   \n",
       "15  Logistic Regression (L1: Lasso)  0.866083  0.000000          1  0.720214   \n",
       "16  Logistic Regression (L1: Lasso)  0.866250  0.000000          1  0.734373   \n",
       "17  Logistic Regression (L1: Lasso)  0.866250  0.000000          1  0.810373   \n",
       "18  Logistic Regression (L1: Lasso)  0.866250  0.000000          1  0.750341   \n",
       "19  Logistic Regression (L1: Lasso)  0.865169  0.000000          1  0.781693   \n",
       "\n",
       "    sensitivity  specificity  \n",
       "0      0.953271            1  \n",
       "1      0.990654            1  \n",
       "2      0.943925            1  \n",
       "3      0.953271            1  \n",
       "4      0.944444            1  \n",
       "5      0.000000            1  \n",
       "6      0.000000            1  \n",
       "7      0.028037            1  \n",
       "8      0.009346            1  \n",
       "9      0.018519            1  \n",
       "10     1.000000            1  \n",
       "11     1.000000            1  \n",
       "12     1.000000            1  \n",
       "13     1.000000            1  \n",
       "14     1.000000            1  \n",
       "15     0.000000            1  \n",
       "16     0.000000            1  \n",
       "17     0.000000            1  \n",
       "18     0.000000            1  \n",
       "19     0.000000            1  "
      ]
     },
     "execution_count": 107,
     "metadata": {},
     "output_type": "execute_result"
    }
   ],
   "source": []
  },
  {
   "cell_type": "code",
   "execution_count": 103,
   "metadata": {
    "collapsed": false
   },
   "outputs": [
    {
     "data": {
      "text/plain": [
       "<matplotlib.axes._subplots.AxesSubplot at 0xbe356a0>"
      ]
     },
     "execution_count": 103,
     "metadata": {},
     "output_type": "execute_result"
    },
    {
     "data": {
      "image/png": "[encoded data removed]",
      "text/plain": [
       "<matplotlib.figure.Figure at 0xb95f0f0>"
      ]
     },
     "metadata": {},
     "output_type": "display_data"
    }
   ],
   "source": [
    "train_reports.groupby(\"model_name\").mean().plot(kind=\"bar\")"
   ]
  },
  {
   "cell_type": "code",
   "execution_count": 101,
   "metadata": {
    "collapsed": false
   },
   "outputs": [
    {
     "data": {
      "text/html": [
       "<div>\n",
       "<table border=\"1\" class=\"dataframe\">\n",
       "  <thead>\n",
       "    <tr style=\"text-align: right;\">\n",
       "      <th></th>\n",
       "      <th>fold_index</th>\n",
       "      <th>accuracy</th>\n",
       "      <th>f1_score</th>\n",
       "      <th>precision</th>\n",
       "      <th>roc_auc</th>\n",
       "      <th>sensitivity</th>\n",
       "      <th>specificity</th>\n",
       "    </tr>\n",
       "    <tr>\n",
       "      <th>model_name</th>\n",
       "      <th></th>\n",
       "      <th></th>\n",
       "      <th></th>\n",
       "      <th></th>\n",
       "      <th></th>\n",
       "      <th></th>\n",
       "      <th></th>\n",
       "    </tr>\n",
       "  </thead>\n",
       "  <tbody>\n",
       "    <tr>\n",
       "      <th>Boosting Tree</th>\n",
       "      <td>1.581139</td>\n",
       "      <td>0.000000</td>\n",
       "      <td>0.000000</td>\n",
       "      <td>0.000000</td>\n",
       "      <td>0.000000</td>\n",
       "      <td>0.000000</td>\n",
       "      <td>0.000000</td>\n",
       "    </tr>\n",
       "    <tr>\n",
       "      <th>Logistic Regression (L1: Lasso)</th>\n",
       "      <td>1.581139</td>\n",
       "      <td>0.000471</td>\n",
       "      <td>0.000000</td>\n",
       "      <td>0.000000</td>\n",
       "      <td>0.036553</td>\n",
       "      <td>0.000000</td>\n",
       "      <td>0.000000</td>\n",
       "    </tr>\n",
       "    <tr>\n",
       "      <th>Random Forest</th>\n",
       "      <td>1.581139</td>\n",
       "      <td>0.002403</td>\n",
       "      <td>0.009334</td>\n",
       "      <td>0.000646</td>\n",
       "      <td>0.000127</td>\n",
       "      <td>0.017301</td>\n",
       "      <td>0.000646</td>\n",
       "    </tr>\n",
       "    <tr>\n",
       "      <th>SVM (Kernel=RDF)</th>\n",
       "      <td>1.581139</td>\n",
       "      <td>0.001569</td>\n",
       "      <td>0.023694</td>\n",
       "      <td>0.000000</td>\n",
       "      <td>0.003157</td>\n",
       "      <td>0.012159</td>\n",
       "      <td>0.000000</td>\n",
       "    </tr>\n",
       "  </tbody>\n",
       "</table>\n",
       "</div>"
      ],
      "text/plain": [
       "                                 fold_index  accuracy  f1_score  precision  \\\n",
       "model_name                                                                   \n",
       "Boosting Tree                      1.581139  0.000000  0.000000   0.000000   \n",
       "Logistic Regression (L1: Lasso)    1.581139  0.000471  0.000000   0.000000   \n",
       "Random Forest                      1.581139  0.002403  0.009334   0.000646   \n",
       "SVM (Kernel=RDF)                   1.581139  0.001569  0.023694   0.000000   \n",
       "\n",
       "                                  roc_auc  sensitivity  specificity  \n",
       "model_name                                                           \n",
       "Boosting Tree                    0.000000     0.000000     0.000000  \n",
       "Logistic Regression (L1: Lasso)  0.036553     0.000000     0.000000  \n",
       "Random Forest                    0.000127     0.017301     0.000646  \n",
       "SVM (Kernel=RDF)                 0.003157     0.012159     0.000000  "
      ]
     },
     "execution_count": 101,
     "metadata": {},
     "output_type": "execute_result"
    }
   ],
   "source": [
    "train_reports.groupby(\"model_name\").std()"
   ]
  }
 ],
 "metadata": {
  "kernelspec": {
   "display_name": "Python 3",
   "language": "python",
   "name": "python3"
  },
  "language_info": {
   "codemirror_mode": {
    "name": "ipython",
    "version": 3
   },
   "file_extension": ".py",
   "mimetype": "text/x-python",
   "name": "python",
   "nbconvert_exporter": "python",
   "pygments_lexer": "ipython3",
   "version": "3.5.1"
  }
 },
 "nbformat": 4,
 "nbformat_minor": 0
}
